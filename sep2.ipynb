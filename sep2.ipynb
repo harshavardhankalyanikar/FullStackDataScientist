{
 "cells": [
  {
   "cell_type": "code",
   "execution_count": 1,
   "id": "d69b7ea9",
   "metadata": {},
   "outputs": [
    {
     "name": "stdout",
     "output_type": "stream",
     "text": [
      "310\n"
     ]
    }
   ],
   "source": [
    "a=list(map(int,input().split()))\n",
    "p=list(map(int,input().split()))\n",
    "s=0\n",
    "for i in range(3):\n",
    "    s+=p[i]*a[i]\n",
    "print(s)\n"
   ]
  },
  {
   "cell_type": "code",
   "execution_count": 5,
   "id": "2bc05879",
   "metadata": {},
   "outputs": [
    {
     "name": "stdout",
     "output_type": "stream",
     "text": [
      "Addition = 19\n",
      "Subtraction = 11\n",
      "Multiplication = 60\n",
      "Division = 3.75\n",
      "Floor Division = 3\n",
      "Modulus = 3\n"
     ]
    }
   ],
   "source": [
    "a=int(input(\"Enter first number: \"))\n",
    "b=int(input(\"Enter second number: \"))\n",
    "print(\"Addition =\",str(a+b))\n",
    "print(\"Subtraction =\",a-b)\n",
    "print(\"Multiplication =\",a*b)\n",
    "print(\"Division =\",a/b)\n",
    "print(\"Floor Division =\",a//b)\n",
    "print(\"Modulus =\",a%b)\n"
   ]
  },
  {
   "cell_type": "code",
   "execution_count": 6,
   "id": "862fb2f2",
   "metadata": {},
   "outputs": [
    {
     "name": "stdout",
     "output_type": "stream",
     "text": [
      "Grade: A\n"
     ]
    }
   ],
   "source": [
    "n=int(input(\"Enter marks:\"))\n",
    "if n>=90:\n",
    "    print(\"Grade: A+\")\n",
    "elif n>=80:\n",
    "    print(\"Grade: A\")\n",
    "elif n>=70:\n",
    "    print(\"Grade: B\")\n",
    "elif n>=60:\n",
    "    print(\"Grade: C\")\n",
    "else:\n",
    "    print(\"Grade: Fail\")"
   ]
  },
  {
   "cell_type": "code",
   "execution_count": 8,
   "id": "7bfa114b",
   "metadata": {},
   "outputs": [
    {
     "name": "stdout",
     "output_type": "stream",
     "text": [
      "Highest Marks: 78\n",
      "Lowest Marks: 45\n",
      "Average Marks: 61.5\n"
     ]
    }
   ],
   "source": [
    "l=list(map(int,input(\"Marks:\").split(\",\")))\n",
    "ma=l[0]\n",
    "mi=l[0]\n",
    "for i in l:\n",
    "    if i>ma:\n",
    "        ma=i\n",
    "    if i<mi:\n",
    "        mi=i\n",
    "print(\"Highest Marks:\",ma)\n",
    "print(\"Lowest Marks:\",mi)\n",
    "print(\"Average Marks:\",sum(l)/len(l))"
   ]
  },
  {
   "cell_type": "code",
   "execution_count": 9,
   "id": "1cb31eed",
   "metadata": {},
   "outputs": [
    {
     "name": "stdout",
     "output_type": "stream",
     "text": [
      "Phone number of ravi is 6589576\n"
     ]
    }
   ],
   "source": [
    "d={}\n",
    "k=list(map(str,input(\"Enter names:\").split(\",\")))\n",
    "v=list(map(int,input(\"Enter phone numbers:\").split(\",\")))\n",
    "for i in range(len(k)):\n",
    "    d[k[i]]=v[i]\n",
    "name = input(\"Enter name to search: \")\n",
    "if name in d:\n",
    "    print(\"Phone number of\", name, \"is\", d[name])\n",
    "else:\n",
    "    print(name, \"not found in phonebook\")\n"
   ]
  },
  {
   "cell_type": "code",
   "execution_count": 18,
   "id": "e0c53406",
   "metadata": {},
   "outputs": [
    {
     "name": "stdout",
     "output_type": "stream",
     "text": [
      "Total words = 3\n",
      "Total characters = 17\n",
      "Total vowels = 6\n"
     ]
    }
   ],
   "source": [
    "s=input(\"Enter sentence: \")\n",
    "w=0\n",
    "c=0\n",
    "v=0\n",
    "for i in s:\n",
    "    if i==\" \":\n",
    "        w+=1\n",
    "    c+=1\n",
    "    if i in \"aeiouAEIOU\":\n",
    "        v+=1\n",
    "print(\"Total words =\",w+1)\n",
    "print(\"Total characters =\",c)\n",
    "print(\"Total vowels =\",v)"
   ]
  },
  {
   "cell_type": "code",
   "execution_count": 19,
   "id": "7f84dd3f",
   "metadata": {},
   "outputs": [
    {
     "name": "stdout",
     "output_type": "stream",
     "text": [
      "Compound Interest = 512.50\n",
      "Total Amount = 5512.50\n"
     ]
    }
   ],
   "source": [
    "p = float(input(\"Principal = \"))\n",
    "r = float(input(\"Rate = \"))\n",
    "t= float(input(\"Time = \"))\n",
    "it = input(\"Interest Type (Simple/Compound) = \").strip().lower()\n",
    "\n",
    "if it == \"simple\":\n",
    "    i = (p*r*t)/100\n",
    "    total = p + i\n",
    "    print(f\"Simple Interest = {i:.2f}\")\n",
    "    print(f\"Total Amount = {total:.2f}\")\n",
    "elif it == \"compound\":\n",
    "    total=p*(1+r/100)**t\n",
    "    i = total - p\n",
    "    print(f\"Compound Interest = {i:.2f}\")\n",
    "    print(f\"Total Amount = {total:.2f}\")\n",
    "else:\n",
    "    print(\"Invalid Interest Type. Please enter 'Simple' or 'Compound'.\")"
   ]
  },
  {
   "cell_type": "code",
   "execution_count": null,
   "id": "96ca2843",
   "metadata": {},
   "outputs": [],
   "source": [
    "s = input(\"Message = \")\n",
    "e = int(input(\"Shift = \"))\n",
    "encrypted = \"\"\n",
    "for ch in s:\n",
    "    if ch.isalpha():\n",
    "        base = ord('A') if ch.isupper() else ord('a')\n",
    "        encrypted += chr((ord(ch) - base + e) % 26 + base)\n",
    "    else:\n",
    "        encrypted += ch\n",
    "print(\"Encrypted Message:\", encrypted)\n",
    "\n"
   ]
  },
  {
   "cell_type": "code",
   "execution_count": null,
   "id": "5447992d",
   "metadata": {},
   "outputs": [],
   "source": [
    "correct_pin = 1234\n",
    "pin = int(input(\"PIN = \"))\n",
    "if pin == correct_pin:\n",
    "    print(\"PIN Verified.\")\n",
    "    balance = float(input(\"Balance = \"))\n",
    "    withdraw = float(input(\"Withdraw = \"))\n",
    "    if withdraw <= balance:\n",
    "        balance -= withdraw\n",
    "        print(f\"Withdrawal Successful. Remaining Balance = {balance}\")\n",
    "    else:\n",
    "        print(\"Insufficient Balance.\")\n",
    "else:\n",
    "    print(\"Incorrect PIN.\")"
   ]
  },
  {
   "cell_type": "code",
   "execution_count": null,
   "id": "07f7af1b",
   "metadata": {},
   "outputs": [],
   "source": [
    "books = [\"Python Basics\", \"Data Science\", \"AI Fundamentals\"]\n",
    "add_book = input(\"Add Book: \")\n",
    "books.append(add_book)\n",
    "remove_book = input(\"Remove Book: \")\n",
    "if remove_book in books:\n",
    "    books.remove(remove_book)\n",
    "print(\"Current Books:\", books)\n",
    "print(\"Total Books:\", len(books))"
   ]
  }
 ],
 "metadata": {
  "kernelspec": {
   "display_name": "Python 3",
   "language": "python",
   "name": "python3"
  },
  "language_info": {
   "codemirror_mode": {
    "name": "ipython",
    "version": 3
   },
   "file_extension": ".py",
   "mimetype": "text/x-python",
   "name": "python",
   "nbconvert_exporter": "python",
   "pygments_lexer": "ipython3",
   "version": "3.11.0"
  }
 },
 "nbformat": 4,
 "nbformat_minor": 5
}
