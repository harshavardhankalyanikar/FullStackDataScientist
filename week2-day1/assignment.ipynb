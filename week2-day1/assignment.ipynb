{
 "cells": [
  {
   "cell_type": "code",
   "execution_count": 1,
   "id": "9f59baab",
   "metadata": {},
   "outputs": [
    {
     "name": "stdout",
     "output_type": "stream",
     "text": [
      "[0, 1, 1, 2, 3, 5, 8, 13, 21, 34]\n"
     ]
    }
   ],
   "source": [
    "def Fibonacci(n):\n",
    "    l=[]\n",
    "    if n==0:\n",
    "        l.append(0)\n",
    "    elif n==1:\n",
    "        l.append(0,1) \n",
    "    else:\n",
    "        a,b=0,1\n",
    "        l.append(a)\n",
    "        l.append(b)\n",
    "        for i in range(2,n):\n",
    "            c=a+b\n",
    "            l.append(c)\n",
    "            a=b\n",
    "            b=c\n",
    "    return l\n",
    "print(Fibonacci(10))\n"
   ]
  },
  {
   "cell_type": "code",
   "execution_count": 2,
   "id": "6cf76b6d",
   "metadata": {},
   "outputs": [
    {
     "name": "stdout",
     "output_type": "stream",
     "text": [
      "120\n"
     ]
    }
   ],
   "source": [
    "def factorial(n):\n",
    "    if n==0 or n==1:\n",
    "        return 1\n",
    "    else:\n",
    "        return n*factorial(n-1)\n",
    "print(factorial(5))"
   ]
  },
  {
   "cell_type": "code",
   "execution_count": 3,
   "id": "ce21270f",
   "metadata": {},
   "outputs": [
    {
     "name": "stdout",
     "output_type": "stream",
     "text": [
      "{'apple': 2, 'banana': 2, 'orange': 1}\n"
     ]
    }
   ],
   "source": [
    "def dictionary(s):\n",
    "    l=list(s.split())\n",
    "    d={}\n",
    "    for i in l:\n",
    "        if i in d:\n",
    "            d[i]+=1\n",
    "        else:\n",
    "            d[i]=1\n",
    "    return d\n",
    "print(dictionary(input()))"
   ]
  },
  {
   "cell_type": "code",
   "execution_count": null,
   "id": "3d3cc0ee",
   "metadata": {},
   "outputs": [
    {
     "name": "stdout",
     "output_type": "stream",
     "text": [
      "A\n"
     ]
    }
   ],
   "source": [
    "def grade(marks):\n",
    "    am=sum(marks)/len(marks)\n",
    "    if am>=90:\n",
    "        return 'S'\n",
    "    elif am>=80:\n",
    "        return 'A'\n",
    "    elif am>=70:\n",
    "        return 'B'\n",
    "    elif am>=60:\n",
    "        return 'C'\n",
    "    elif am>=40:\n",
    "        return 'Pass'\n",
    "    else:\n",
    "        return \"Fail\"\n",
    "print(grade(list(map(int,input().split(\",\")))))"
   ]
  },
  {
   "cell_type": "code",
   "execution_count": 5,
   "id": "144e7fe8",
   "metadata": {},
   "outputs": [
    {
     "name": "stdout",
     "output_type": "stream",
     "text": [
      "10\n"
     ]
    }
   ],
   "source": [
    "def SecondLargest(l):\n",
    "    l=set(l)\n",
    "    l=list(l)\n",
    "    l.sort()\n",
    "    return l[-2]\n",
    "print(SecondLargest(list(map(int,input().split(\",\")))))"
   ]
  },
  {
   "cell_type": "code",
   "execution_count": 6,
   "id": "c526b76b",
   "metadata": {},
   "outputs": [
    {
     "name": "stdout",
     "output_type": "stream",
     "text": [
      "Text files: 0\n",
      "Python files: 0\n"
     ]
    }
   ],
   "source": [
    "import os\n",
    "txt = 0\n",
    "py = 0\n",
    "for i in os.listdir():\n",
    "    if i.endswith('.txt'):\n",
    "        txt += 1\n",
    "    elif i.endswith('.py'):\n",
    "        py += 1\n",
    "\n",
    "print(f\"Text files: {txt}\")\n",
    "print(f\"Python files: {py}\")"
   ]
  },
  {
   "cell_type": "code",
   "execution_count": 14,
   "id": "7a21e661",
   "metadata": {},
   "outputs": [
    {
     "name": "stdout",
     "output_type": "stream",
     "text": [
      "87.85714285714286\n",
      "90\n",
      "73.80952380952381\n"
     ]
    }
   ],
   "source": [
    "import statistics\n",
    "l=list(map(int,input().split(\",\")))\n",
    "l.sort()\n",
    "mean=statistics.mean(l)\n",
    "print(mean)\n",
    "print(statistics.median(l))\n",
    "v=statistics.variance(l)\n",
    "print(v)"
   ]
  },
  {
   "cell_type": "code",
   "execution_count": 18,
   "id": "fde1b312",
   "metadata": {},
   "outputs": [
    {
     "name": "stdout",
     "output_type": "stream",
     "text": [
      "roots are 2.0 and 1.0\n"
     ]
    }
   ],
   "source": [
    "import math\n",
    "a,b,c=map(int,input().split(\",\"))\n",
    "root1=(-b+math.sqrt(b**2-4*a*c))/(2*a)\n",
    "root2=(-b-math.sqrt(b**2-4*a*c))/(2*a)\n",
    "print(\"roots are \"+str(root1)+\" and \"+str(root2))"
   ]
  },
  {
   "cell_type": "code",
   "execution_count": 20,
   "id": "7d455357",
   "metadata": {},
   "outputs": [
    {
     "name": "stdout",
     "output_type": "stream",
     "text": [
      "Draw\n"
     ]
    }
   ],
   "source": [
    "import random\n",
    "s=input()\n",
    "l=[\"Rock\",\"Paper\",\"Scissors\"]\n",
    "c=random.choice(l)\n",
    "if s==c:\n",
    "    print(\"Draw\")\n",
    "elif (s==\"Rock\" and c==\"Scissors\") or (s==\"Paper\" and c==\"Rock\") or (s==\"Scissors\" and c==\"Paper\"):\n",
    "    print(\"You choose \"+s,end=\" \")\n",
    "    print(\"Computer choose \"+c)\n",
    "    print(\"You Win!\")\n",
    "else:\n",
    "    print(\"You choose \"+s,end=\" \")\n",
    "    print(\"Computer choose \"+c)\n",
    "    print(\"Computer Win\")\n",
    "\n"
   ]
  },
  {
   "cell_type": "code",
   "execution_count": 22,
   "id": "d8b10035",
   "metadata": {},
   "outputs": [
    {
     "name": "stdout",
     "output_type": "stream",
     "text": [
      "Please provide exactly\n"
     ]
    }
   ],
   "source": [
    "import sys\n",
    "if len(sys.argv) == 4:\n",
    "    a = int(sys.argv[1])\n",
    "    b = int(sys.argv[2])\n",
    "    c = int(sys.argv[3])\n",
    "    print(f\"Sum = {a + b + c}\")\n",
    "else:\n",
    "    print(\"Please provide exactly\")"
   ]
  },
  {
   "cell_type": "code",
   "execution_count": 29,
   "id": "94a06b0e",
   "metadata": {},
   "outputs": [
    {
     "name": "stdout",
     "output_type": "stream",
     "text": [
      "You have borrowed 'Python 101'\n",
      "You have returned 'Python 101'\n",
      "Available books:{'Python 101': 3, 'Data Science': 2}\n"
     ]
    }
   ],
   "source": [
    "class Library:\n",
    "    def __init__(self,books):\n",
    "        self.books = books\n",
    "    def borrow(self,title):\n",
    "        if title in self.books and self.books[title] > 0:\n",
    "            self.books[title] -= 1\n",
    "            print(f\"You have borrowed '{title}'\")\n",
    "        else:\n",
    "            print(f\"'{title}' is not available\")\n",
    "    def return_book(self,title):\n",
    "        if title in self.books:\n",
    "            self.books[title] += 1\n",
    "        else:\n",
    "            self.books[title] = 1\n",
    "        print(f\"You have returned '{title}'\")\n",
    "    def show_books(self):\n",
    "        print(\"Available books:\"+str(self.books))\n",
    " \n",
    "lib = Library({\"Python 101\": 3, \"Data Science\": 2})\n",
    " \n",
    "lib.borrow(\"Python 101\")\n",
    " \n",
    "lib.return_book(\"Python 101\")\n",
    " \n",
    "lib.show_books()\n",
    "\n",
    "\n",
    "        "
   ]
  },
  {
   "cell_type": "code",
   "execution_count": 31,
   "id": "5d16bab1",
   "metadata": {},
   "outputs": [
    {
     "name": "stdout",
     "output_type": "stream",
     "text": [
      "Access granted\n",
      "deposited : 200\n",
      "withdrew : 100\n",
      "600\n"
     ]
    }
   ],
   "source": [
    "class ATM:\n",
    "    def __init__(self,pin,balance):\n",
    "        self.balance=balance\n",
    "        self.pin=pin\n",
    "    def login(self,p):\n",
    "        if self.pin==p:\n",
    "            return \"Access granted\"\n",
    "        else:\n",
    "            return \"Access denied\"\n",
    "    def check_balance(self):\n",
    "        return self.balance\n",
    "    def deposit(self,amount):\n",
    "        self.balance+=amount\n",
    "        return \"deposited : \"+str(amount)\n",
    "    def withdraw(self,amount):\n",
    "        if amount>self.balance:\n",
    "            return \"Insufficient balance\"\n",
    "        else:\n",
    "            self.balance-=amount\n",
    "            return \"withdrew : \"+str(amount)\n",
    "atm = ATM(1234, 500)\n",
    " \n",
    "print(atm.login(1234))\n",
    " \n",
    "print(atm.deposit(200))\n",
    " \n",
    "print(atm.withdraw(100))\n",
    " \n",
    "print(atm.check_balance())\n",
    " \n",
    "\n",
    "    \n",
    "    "
   ]
  },
  {
   "cell_type": "code",
   "execution_count": 34,
   "id": "458a4c93",
   "metadata": {},
   "outputs": [
    {
     "name": "stdout",
     "output_type": "stream",
     "text": [
      "Dr. Smith is teaching Python\n",
      "Alice enrolled in Python\n",
      "Dr. Smith assigned: Project 1\n",
      "Alice submitted: Project 1\n"
     ]
    }
   ],
   "source": [
    "class Professor:\n",
    "    def __init__(self,name,course):\n",
    "        self.name=name\n",
    "        self.course=course\n",
    "    def teach(self,subject):\n",
    "        return self.name+\" is teaching \"+subject\n",
    "    def give_assignment(self,task):\n",
    "        return self.name+\" assigned: \"+task\n",
    "class Student:\n",
    "    def __init__(self,name):\n",
    "        self.name=name\n",
    "        self.courses=[]\n",
    "        self.assignments=[]\n",
    "    def enroll(self,course):\n",
    "        self.courses.append(course)\n",
    "        return self.name+\" enrolled in \"+course\n",
    "    def submit_assignment(self,task):\n",
    "        self.assignments.append(task)\n",
    "        return self.name+\" submitted: \"+task\n",
    "\n",
    "prof = Professor(\"Dr. Smith\", \"Computer Science\")\n",
    " \n",
    "stud = Student(\"Alice\")\n",
    " \n",
    "print(prof.teach(\"Python\"))\n",
    " \n",
    "print(stud.enroll(\"Python\"))\n",
    " \n",
    "print(prof.give_assignment(\"Project 1\"))\n",
    " \n",
    "print(stud.submit_assignment(\"Project 1\"))\n",
    "\n"
   ]
  },
  {
   "cell_type": "code",
   "execution_count": 37,
   "id": "fa877d8e",
   "metadata": {},
   "outputs": [
    {
     "name": "stdout",
     "output_type": "stream",
     "text": [
      "Booked 2 tickets for Avatar\n",
      "Cancelled 1 tickets for Avatar\n"
     ]
    },
    {
     "data": {
      "text/plain": [
       "\"Movies : {'Avatar': 9, 'Batman': 5}\""
      ]
     },
     "execution_count": 37,
     "metadata": {},
     "output_type": "execute_result"
    }
   ],
   "source": [
    "class Cinema:\n",
    "    def __init__(self,movies):\n",
    "        self.movies=movies\n",
    "    def book(self,movie,seats):\n",
    "        if movie in self.movies and self.movies[movie]>=seats:\n",
    "            self.movies[movie]-=seats\n",
    "            return f\"Booked {seats} tickets for {movie}\"\n",
    "        else:\n",
    "            return \"Booking failed\"\n",
    "    def cancel(self,movie,seats):\n",
    "        if movie in self.movies:\n",
    "            self.movies[movie]+=seats\n",
    "            return f\"Cancelled {seats} tickets for {movie}\"\n",
    "        else:\n",
    "            return \"Cancellation failed\"\n",
    "    def  show_movies(self):\n",
    "        return \"Movies : \"+str(self.movies)\n",
    "cinema = Cinema({\"Avatar\": 10, \"Batman\": 5})\n",
    " \n",
    "print(cinema.book(\"Avatar\", 2))\n",
    " \n",
    "print(cinema.cancel(\"Avatar\", 1))\n",
    " \n",
    "cinema.show_movies()\n"
   ]
  },
  {
   "cell_type": "code",
   "execution_count": 40,
   "id": "be488c0e",
   "metadata": {},
   "outputs": [
    {
     "name": "stdout",
     "output_type": "stream",
     "text": [
      "Burger added\n",
      "Pizza added\n",
      "Pizza price updated to 250\n",
      "Burger removed\n",
      "Menu : {'Pizza': 250}\n"
     ]
    }
   ],
   "source": [
    "class Menu:\n",
    "    def __init__(self):\n",
    "        self.items={}\n",
    "    def add_item(self,item,price):\n",
    "        self.items[item]=price\n",
    "        return item +\" added\"\n",
    "    def remove_item(self,item):\n",
    "        if item in self.items:\n",
    "            del self.items[item]\n",
    "            return item+\" removed\"\n",
    "        else:\n",
    "            return f\"{item} not found\"\n",
    "    def update_price(self,item,new_price):\n",
    "        if item in self.items:\n",
    "            self.items[item]=new_price\n",
    "            return item+\" price updated to \"+str(new_price)\n",
    "        else:\n",
    "            return f\"{item} not found\"\n",
    "    def show_menu(self):\n",
    "        print(\"Menu : \"+str(self.items))\n",
    "menu = Menu()\n",
    " \n",
    "print(menu.add_item(\"Burger\", 100))\n",
    " \n",
    "print(menu.add_item(\"Pizza\", 200))\n",
    " \n",
    "print(menu.update_price(\"Pizza\", 250))\n",
    " \n",
    "print(menu.remove_item(\"Burger\"))\n",
    " \n",
    "menu.show_menu()"
   ]
  }
 ],
 "metadata": {
  "kernelspec": {
   "display_name": "Python 3",
   "language": "python",
   "name": "python3"
  },
  "language_info": {
   "codemirror_mode": {
    "name": "ipython",
    "version": 3
   },
   "file_extension": ".py",
   "mimetype": "text/x-python",
   "name": "python",
   "nbconvert_exporter": "python",
   "pygments_lexer": "ipython3",
   "version": "3.11.0"
  }
 },
 "nbformat": 4,
 "nbformat_minor": 5
}
