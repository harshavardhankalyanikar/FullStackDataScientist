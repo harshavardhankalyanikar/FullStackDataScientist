{
 "cells": [
  {
   "cell_type": "code",
   "execution_count": 17,
   "id": "96f102ee",
   "metadata": {},
   "outputs": [],
   "source": [
    "def prime(n):\n",
    "    L=[]\n",
    "    for i in range(2,n+1):\n",
    "        f=0\n",
    "        for j in range(2,i):\n",
    "            if i%j==0:\n",
    "                f=1\n",
    "                break\n",
    "        if f==0:\n",
    "            l.append(i)"
   ]
  },
  {
   "cell_type": "code",
   "execution_count": 20,
   "id": "8b7872ce",
   "metadata": {},
   "outputs": [],
   "source": [
    "def palindrome(s):\n",
    "    s=s.lower()\n",
    "    x=\"\"\n",
    "    y=\"\"\n",
    "    for i in s:\n",
    "        if not i.isalpha():\n",
    "            continue\n",
    "        x+=i\n",
    "    for i in range(len(x)-1,-1,-1):\n",
    "        y+=x[i]\n",
    "    return x==y\n"
   ]
  },
  {
   "cell_type": "code",
   "execution_count": 21,
   "id": "ad25f524",
   "metadata": {},
   "outputs": [],
   "source": [
    "def anagram(a,b):\n",
    "    a=list(a)\n",
    "    b=list(b)\n",
    "    a.sort()\n",
    "    b.sort()\n",
    "    print(a==b)"
   ]
  },
  {
   "cell_type": "code",
   "execution_count": 22,
   "id": "cc69c7c2",
   "metadata": {},
   "outputs": [],
   "source": [
    "def vowel_consonant(s):\n",
    "    v=0\n",
    "    c=0\n",
    "    for i in s:\n",
    "        if i in 'aeiouAEIOU':\n",
    "            v+=1\n",
    "        else:\n",
    "            c+=1\n",
    "    print(\"Vowels:\",v)\n",
    "    print(\"Consonants:\",c)"
   ]
  },
  {
   "cell_type": "code",
   "execution_count": 23,
   "id": "60b094a5",
   "metadata": {},
   "outputs": [],
   "source": [
    "def long_word_finder(s):\n",
    "    s=s.split()\n",
    "    m=0\n",
    "    w=\"\"\n",
    "    for i in s:\n",
    "        if len(i)>m:\n",
    "            m=len(i)\n",
    "            w=i\n",
    "    return w"
   ]
  },
  {
   "cell_type": "code",
   "execution_count": null,
   "id": "dee46bdf",
   "metadata": {},
   "outputs": [
    {
     "data": {
      "text/plain": [
       "'Gq7QDu+6>#'"
      ]
     },
     "execution_count": 25,
     "metadata": {},
     "output_type": "execute_result"
    }
   ],
   "source": [
    "import random\n",
    "import string\n",
    "def p_gen(n):\n",
    "    s=string.ascii_letters+string.digits+string.punctuation\n",
    "    p=''.join(random.choices(s,k=n))\n",
    "    return p\n",
    "p_gen(10)"
   ]
  },
  {
   "cell_type": "code",
   "execution_count": 32,
   "id": "b0279726",
   "metadata": {},
   "outputs": [
    {
     "name": "stdout",
     "output_type": "stream",
     "text": [
      "5.0\n"
     ]
    }
   ],
   "source": [
    "import math\n",
    "def simple_calc(s):\n",
    "    x=\"\"\n",
    "    for i in s:\n",
    "        if not i.isalnum():\n",
    "            continue\n",
    "        x+=i\n",
    "    num=\"\"\n",
    "    opr=\"\"\n",
    "    for i in range(len(x)):\n",
    "        if x[i].isalpha():\n",
    "            opr+=x[i]\n",
    "        else:\n",
    "            num+=x[i]\n",
    "    num=int(num)\n",
    "    if opr=='sqrt':\n",
    "        return math.sqrt(num)\n",
    "    elif opr=='factorial':\n",
    "        return math.factorial(num)\n",
    "    elif opr=='sin':\n",
    "        return math.sin(num)\n",
    "    elif opr=='cos':\n",
    "        return math.cos(num)\n",
    "print(simple_calc(\"sqrt(25)\"))\n",
    "    \n",
    "\n"
   ]
  },
  {
   "cell_type": "code",
   "execution_count": 35,
   "id": "c39da97d",
   "metadata": {},
   "outputs": [
    {
     "name": "stdout",
     "output_type": "stream",
     "text": [
      "Counter({'cat': 2, 'dog': 1})\n"
     ]
    }
   ],
   "source": [
    "from collections import Counter\n",
    "def freq_count(s):\n",
    "    s=s.split()\n",
    "    d=Counter(s)\n",
    "    return d\n",
    "print(freq_count(\"cat dog cat\"))"
   ]
  },
  {
   "cell_type": "code",
   "execution_count": null,
   "id": "ebeed8c6",
   "metadata": {},
   "outputs": [
    {
     "name": "stdout",
     "output_type": "stream",
     "text": [
      "weather : Rainy\n",
      "temp : 27C\n"
     ]
    }
   ],
   "source": [
    "import random\n",
    "def weather():\n",
    "    l=['Sunny','Rainy','Cloudy','Windy','Stormy']\n",
    "    temp=range(16,51)\n",
    "    return random.choice(l),random.choice(temp)\n",
    "a,b=weather()\n",
    "print(\"Weather : \"+str(a))\n",
    "print(\"temp : \"+str(b)+\"C\")"
   ]
  },
  {
   "cell_type": "code",
   "execution_count": 40,
   "id": "15c09cd8",
   "metadata": {},
   "outputs": [
    {
     "name": "stdout",
     "output_type": "stream",
     "text": [
      "5\n",
      "4\n",
      "3\n",
      "2\n",
      "1\n",
      "Time's up!\n"
     ]
    }
   ],
   "source": [
    "import time\n",
    "def countdown(n):\n",
    "    while n > 0:\n",
    "        print(n)\n",
    "        time.sleep(1)\n",
    "        n -= 1\n",
    "    print(\"Time's up!\")\n",
    "countdown(5)"
   ]
  },
  {
   "cell_type": "code",
   "execution_count": 5,
   "id": "ba7aaec4",
   "metadata": {},
   "outputs": [
    {
     "name": "stdout",
     "output_type": "stream",
     "text": [
      "120\n"
     ]
    }
   ],
   "source": [
    "class BankAccount:\n",
    "    def __init__(self,balance):\n",
    "        self.balance=balance\n",
    "    def deposit(self,amount):\n",
    "        self.balance+=amount\n",
    "    def withdrawl(self,amount):\n",
    "        if amount>self.balance:\n",
    "            print(\"Insufficient balance\")\n",
    "        else:\n",
    "            self.balance-=amount\n",
    "    def get_balance(self):\n",
    "        return self.balance\n",
    "acc = BankAccount(100)   # initial balance = 100\n",
    "acc.deposit(50)          # balance = 150\n",
    "acc.withdrawl(30)         # balance = 120\n",
    "print(acc.get_balance())\n"
   ]
  },
  {
   "cell_type": "code",
   "execution_count": 10,
   "id": "51e5af0b",
   "metadata": {},
   "outputs": [
    {
     "name": "stdout",
     "output_type": "stream",
     "text": [
      "85.0\n",
      "95\n"
     ]
    }
   ],
   "source": [
    "class Student:\n",
    "    def __init__(self, name, marks):\n",
    "        self.name = name\n",
    "        self.marks = marks\n",
    "    def get_average(self):\n",
    "        return sum(self.marks) / len(self.marks)\n",
    "    def add_mark(self, mark):\n",
    "        self.marks.append(mark)\n",
    "    def get_highest(self):\n",
    "        return max(self.marks)\n",
    "    def get_lowest(self):\n",
    "        return min(self.marks)\n",
    "s = Student(\"Tom\", [90, 80, 85])\n",
    "print(s.get_average())   # (90+80+85)/3 = 85.0\n",
    "s.add_mark(95)           # marks = [90,80,85,95]\n",
    "print(s.get_highest())   # 95\n"
   ]
  },
  {
   "cell_type": "code",
   "execution_count": 13,
   "id": "7cf64f08",
   "metadata": {},
   "outputs": [
    {
     "name": "stdout",
     "output_type": "stream",
     "text": [
      "10000.0\n"
     ]
    }
   ],
   "source": [
    "class Employee:\n",
    "    x=0\n",
    "    def __init__(self,name,salary):\n",
    "        self.name=name\n",
    "        self.salary=salary\n",
    "    def bonus(self):\n",
    "        return self.salary*self.x\n",
    "class Manager(Employee):\n",
    "    x=0.2\n",
    "class Developer(Employee):\n",
    "    x=0.1\n",
    "class Intern(Employee):\n",
    "    x=0.05\n",
    "m = Manager(\"Alice\", 50000)\n",
    "print(m.bonus())\n",
    "\n",
    "    \n",
    "    "
   ]
  },
  {
   "cell_type": "code",
   "execution_count": 15,
   "id": "7f472f63",
   "metadata": {},
   "outputs": [
    {
     "name": "stdout",
     "output_type": "stream",
     "text": [
      "153.86\n",
      "20\n"
     ]
    }
   ],
   "source": [
    "class Shape:\n",
    "    def area(self):\n",
    "        pass\n",
    "class Circle(Shape):\n",
    "    def __init__(self,r):\n",
    "        self.r=r\n",
    "    def area(self):\n",
    "        return 3.14*self.r*self.r\n",
    "class Rectangle(Shape):\n",
    "    def __init__(self,l,b):\n",
    "        self.l=l\n",
    "        self.b=b\n",
    "    def area(self):\n",
    "        return self.l*self.b\n",
    "c = Circle(7)\n",
    "print(c.area())\n",
    "r = Rectangle(4, 5)\n",
    "print(r.area())\n",
    "\n"
   ]
  },
  {
   "cell_type": "code",
   "execution_count": 18,
   "id": "413120b9",
   "metadata": {},
   "outputs": [
    {
     "name": "stdout",
     "output_type": "stream",
     "text": [
      "2000\n"
     ]
    }
   ],
   "source": [
    "class Order:\n",
    "    def __init__(self):\n",
    "        self.items=dict()\n",
    "    def add(self,item,price):\n",
    "        self.items[item]=price\n",
    "    def remove(self,item):\n",
    "        if item in self.items:\n",
    "            del self.items[item]\n",
    "    def calculate_total(self):\n",
    "        s=0\n",
    "        for i in self.items:\n",
    "            s+=self.items[i]\n",
    "        return s\n",
    "    def show_items(self):\n",
    "        print(self.items.keys())\n",
    "order = Order()\n",
    "order.add(\"Shirt\", 500)\n",
    "order.add(\"Shoes\", 1500)\n",
    "print(order.calculate_total())\n",
    "\n"
   ]
  }
 ],
 "metadata": {
  "kernelspec": {
   "display_name": "base",
   "language": "python",
   "name": "python3"
  },
  "language_info": {
   "codemirror_mode": {
    "name": "ipython",
    "version": 3
   },
   "file_extension": ".py",
   "mimetype": "text/x-python",
   "name": "python",
   "nbconvert_exporter": "python",
   "pygments_lexer": "ipython3",
   "version": "3.13.5"
  }
 },
 "nbformat": 4,
 "nbformat_minor": 5
}
