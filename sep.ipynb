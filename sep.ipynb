{
 "cells": [
  {
   "cell_type": "code",
   "execution_count": 1,
   "id": "1c08eaba",
   "metadata": {},
   "outputs": [
    {
     "name": "stdout",
     "output_type": "stream",
     "text": [
      "Not Prime\n"
     ]
    }
   ],
   "source": [
    "n=int(input())\n",
    "c=0\n",
    "for i in range(1,n):\n",
    "    if n%i==0:\n",
    "        c+=1\n",
    "if c==1:\n",
    "    print(\"Prime\")\n",
    "else:\n",
    "    print(\"Not Prime\")"
   ]
  },
  {
   "cell_type": "code",
   "execution_count": 3,
   "id": "609d8e1b",
   "metadata": {},
   "outputs": [
    {
     "name": "stdout",
     "output_type": "stream",
     "text": [
      "8\n"
     ]
    }
   ],
   "source": [
    "l=list(map(int,input().split()))\n",
    "l.sort()\n",
    "print(l[-2])"
   ]
  },
  {
   "cell_type": "code",
   "execution_count": 10,
   "id": "77b13fcb",
   "metadata": {},
   "outputs": [
    {
     "name": "stdout",
     "output_type": "stream",
     "text": [
      "650\n"
     ]
    }
   ],
   "source": [
    "n=50\n",
    "print(sum(range(0,n+1,2)))"
   ]
  },
  {
   "cell_type": "code",
   "execution_count": 11,
   "id": "2ba74e26",
   "metadata": {},
   "outputs": [
    {
     "name": "stdout",
     "output_type": "stream",
     "text": [
      "Uppercase: 0\n",
      "Lowercase: 23\n"
     ]
    }
   ],
   "source": [
    "s=input()\n",
    "u=0\n",
    "l=0\n",
    "for i in s:\n",
    "    if i.isupper():\n",
    "        u+=1\n",
    "    elif i.islower():\n",
    "        l+=1\n",
    "print(\"Uppercase:\",u)\n",
    "print(\"Lowercase:\",l)"
   ]
  },
  {
   "cell_type": "code",
   "execution_count": 15,
   "id": "55687c31",
   "metadata": {},
   "outputs": [
    {
     "name": "stdout",
     "output_type": "stream",
     "text": [
      "0 1 1 2 3 5 8 13 "
     ]
    }
   ],
   "source": [
    "n=int(input())\n",
    "if n==1:\n",
    "    print(\"0\")\n",
    "elif n==2:\n",
    "    print(\"1\")  \n",
    "else:  \n",
    "    a=0\n",
    "    b=1\n",
    "    print(a,b,end=\" \")\n",
    "    for i in range(2,n):\n",
    "        c=a+b\n",
    "        a=b\n",
    "        b=c\n",
    "        print(c,end=\" \")\n"
   ]
  },
  {
   "cell_type": "code",
   "execution_count": 16,
   "id": "592e0133",
   "metadata": {},
   "outputs": [
    {
     "name": "stdout",
     "output_type": "stream",
     "text": [
      "Yes\n"
     ]
    }
   ],
   "source": [
    "a,b=map(str,input().split())\n",
    "if len(a)!=len(b):\n",
    "    print(\"No\")\n",
    "else:\n",
    "    c=0\n",
    "    for i in a:\n",
    "        if i in b:\n",
    "            c+=1\n",
    "    if c==len(a):\n",
    "        print(\"Yes\")\n",
    "    else:\n",
    "        print(\"No\")"
   ]
  },
  {
   "cell_type": "code",
   "execution_count": 18,
   "id": "c036f3d2",
   "metadata": {},
   "outputs": [
    {
     "name": "stdout",
     "output_type": "stream",
     "text": [
      "Not Perfect\n"
     ]
    }
   ],
   "source": [
    "n=int(input())\n",
    "s=0\n",
    "for i in range(1,n):\n",
    "    if n%i==0:\n",
    "        s+=i\n",
    "if s==n:\n",
    "    print(\"Perfect\")\n",
    "else:\n",
    "    print(\"Not Perfect\")"
   ]
  },
  {
   "cell_type": "code",
   "execution_count": 19,
   "id": "dc756385",
   "metadata": {},
   "outputs": [
    {
     "name": "stdout",
     "output_type": "stream",
     "text": [
      "B\n"
     ]
    }
   ],
   "source": [
    "n=int(input())\n",
    "if n>=90:\n",
    "    print(\"A\")\n",
    "elif n>=75:\n",
    "    print(\"B\")\n",
    "elif n>=50:\n",
    "    print(\"C\")\n",
    "else:\n",
    "    print(\"Fail\")"
   ]
  },
  {
   "cell_type": "code",
   "execution_count": 20,
   "id": "117293ef",
   "metadata": {},
   "outputs": [
    {
     "name": "stdout",
     "output_type": "stream",
     "text": [
      "1 2 3 5 7 11 13 17 19 23 29 31 37 41 43 47 53 59 61 67 71 73 79 83 89 97 "
     ]
    }
   ],
   "source": [
    "for i in range(1,101):\n",
    "    for j in range(2,i):\n",
    "        if i%j==0:\n",
    "            break\n",
    "    else:\n",
    "        print(i,end=\" \")"
   ]
  },
  {
   "cell_type": "code",
   "execution_count": 21,
   "id": "445fdffa",
   "metadata": {},
   "outputs": [
    {
     "name": "stdout",
     "output_type": "stream",
     "text": [
      "ikhfiuyt\n",
      "vnygriu\n",
      "b8e\n",
      "ncu\n",
      "vynyn\n",
      "ty9rj7m"
     ]
    }
   ],
   "source": [
    "n=input()\n",
    "for i in n:\n",
    "    if i==\" \":\n",
    "        print(\"\\n\",end=\"\")\n",
    "    else:\n",
    "        print(i,end=\"\")\n"
   ]
  }
 ],
 "metadata": {
  "kernelspec": {
   "display_name": "venv",
   "language": "python",
   "name": "python3"
  },
  "language_info": {
   "codemirror_mode": {
    "name": "ipython",
    "version": 3
   },
   "file_extension": ".py",
   "mimetype": "text/x-python",
   "name": "python",
   "nbconvert_exporter": "python",
   "pygments_lexer": "ipython3",
   "version": "3.11.0"
  }
 },
 "nbformat": 4,
 "nbformat_minor": 5
}
