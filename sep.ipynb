{
 "cells": [
  {
   "cell_type": "code",
   "execution_count": 1,
   "id": "1c08eaba",
   "metadata": {},
   "outputs": [
    {
     "name": "stdout",
     "output_type": "stream",
     "text": [
      "Not Prime\n"
     ]
    }
   ],
   "source": [
    "n=int(input())\n",
    "c=0\n",
    "for i in range(1,n):\n",
    "    if n%i==0:\n",
    "        c+=1\n",
    "if c==1:\n",
    "    print(\"Prime\")\n",
    "else:\n",
    "    print(\"Not Prime\")"
   ]
  },
  {
   "cell_type": "code",
   "execution_count": 3,
   "id": "609d8e1b",
   "metadata": {},
   "outputs": [
    {
     "name": "stdout",
     "output_type": "stream",
     "text": [
      "8\n"
     ]
    }
   ],
   "source": [
    "l=list(map(int,input().split()))\n",
    "l.sort()\n",
    "print(l[-2])"
   ]
  },
  {
   "cell_type": "code",
   "execution_count": 10,
   "id": "77b13fcb",
   "metadata": {},
   "outputs": [
    {
     "name": "stdout",
     "output_type": "stream",
     "text": [
      "650\n"
     ]
    }
   ],
   "source": [
    "n=50\n",
    "print(sum(range(0,n+1,2)))"
   ]
  },
  {
   "cell_type": "code",
   "execution_count": 11,
   "id": "2ba74e26",
   "metadata": {},
   "outputs": [
    {
     "name": "stdout",
     "output_type": "stream",
     "text": [
      "Uppercase: 0\n",
      "Lowercase: 23\n"
     ]
    }
   ],
   "source": [
    "s=input()\n",
    "u=0\n",
    "l=0\n",
    "for i in s:\n",
    "    if i.isupper():\n",
    "        u+=1\n",
    "    elif i.islower():\n",
    "        l+=1\n",
    "print(\"Uppercase:\",u)\n",
    "print(\"Lowercase:\",l)"
   ]
  },
  {
   "cell_type": "code",
   "execution_count": 15,
   "id": "55687c31",
   "metadata": {},
   "outputs": [
    {
     "name": "stdout",
     "output_type": "stream",
     "text": [
      "0 1 1 2 3 5 8 13 "
     ]
    }
   ],
   "source": [
    "n=int(input())\n",
    "if n==1:\n",
    "    print(\"0\")\n",
    "elif n==2:\n",
    "    print(\"1\")  \n",
    "else:  \n",
    "    a=0\n",
    "    b=1\n",
    "    print(a,b,end=\" \")\n",
    "    for i in range(2,n):\n",
    "        c=a+b\n",
    "        a=b\n",
    "        b=c\n",
    "        print(c,end=\" \")\n"
   ]
  },
  {
   "cell_type": "code",
   "execution_count": 16,
   "id": "592e0133",
   "metadata": {},
   "outputs": [
    {
     "name": "stdout",
     "output_type": "stream",
     "text": [
      "Yes\n"
     ]
    }
   ],
   "source": [
    "a,b=map(str,input().split())\n",
    "if len(a)!=len(b):\n",
    "    print(\"No\")\n",
    "else:\n",
    "    c=0\n",
    "    for i in a:\n",
    "        if i in b:\n",
    "            c+=1\n",
    "    if c==len(a):\n",
    "        print(\"Yes\")\n",
    "    else:\n",
    "        print(\"No\")"
   ]
  },
  {
   "cell_type": "code",
   "execution_count": 18,
   "id": "c036f3d2",
   "metadata": {},
   "outputs": [
    {
     "name": "stdout",
     "output_type": "stream",
     "text": [
      "Not Perfect\n"
     ]
    }
   ],
   "source": [
    "n=int(input())\n",
    "s=0\n",
    "for i in range(1,n):\n",
    "    if n%i==0:\n",
    "        s+=i\n",
    "if s==n:\n",
    "    print(\"Perfect\")\n",
    "else:\n",
    "    print(\"Not Perfect\")"
   ]
  },
  {
   "cell_type": "code",
   "execution_count": 19,
   "id": "dc756385",
   "metadata": {},
   "outputs": [
    {
     "name": "stdout",
     "output_type": "stream",
     "text": [
      "B\n"
     ]
    }
   ],
   "source": [
    "n=int(input())\n",
    "if n>=90:\n",
    "    print(\"A\")\n",
    "elif n>=75:\n",
    "    print(\"B\")\n",
    "elif n>=50:\n",
    "    print(\"C\")\n",
    "else:\n",
    "    print(\"Fail\")"
   ]
  },
  {
   "cell_type": "code",
   "execution_count": 20,
   "id": "117293ef",
   "metadata": {},
   "outputs": [
    {
     "name": "stdout",
     "output_type": "stream",
     "text": [
      "1 2 3 5 7 11 13 17 19 23 29 31 37 41 43 47 53 59 61 67 71 73 79 83 89 97 "
     ]
    }
   ],
   "source": [
    "for i in range(1,101):\n",
    "    for j in range(2,i):\n",
    "        if i%j==0:\n",
    "            break\n",
    "    else:\n",
    "        print(i,end=\" \")"
   ]
  },
  {
   "cell_type": "code",
   "execution_count": 21,
   "id": "445fdffa",
   "metadata": {},
   "outputs": [
    {
     "name": "stdout",
     "output_type": "stream",
     "text": [
      "ikhfiuyt\n",
      "vnygriu\n",
      "b8e\n",
      "ncu\n",
      "vynyn\n",
      "ty9rj7m"
     ]
    }
   ],
   "source": [
    "n=input()\n",
    "for i in n:\n",
    "    if i==\" \":\n",
    "        print(\"\\n\",end=\"\")\n",
    "    else:\n",
    "        print(i,end=\"\")\n"
   ]
  },
  {
   "cell_type": "code",
   "execution_count": 1,
   "id": "306418c1",
   "metadata": {},
   "outputs": [
    {
     "name": "stdout",
     "output_type": "stream",
     "text": [
      "Final ticket price: 16.0\n"
     ]
    }
   ],
   "source": [
    "price = float(input(\"Enter ticket price: \"))\n",
    "age = int(input(\"Enter age: \"))\n",
    "student = input(\"Are you a student (yes/no): \").lower()\n",
    "\n",
    "if student == \"yes\":\n",
    "    price *= 0.8\n",
    "elif age >= 60:\n",
    "    price *= 0.9\n",
    "\n",
    "print(\"Final ticket price:\", price)"
   ]
  },
  {
   "cell_type": "code",
   "execution_count": 2,
   "id": "0236c79a",
   "metadata": {},
   "outputs": [
    {
     "name": "stdout",
     "output_type": "stream",
     "text": [
      "Final amount: 55.0\n"
     ]
    }
   ],
   "source": [
    "cart_total = float(input(\"Enter cart total: \"))\n",
    "\n",
    "if cart_total > 500:\n",
    "    print(\"Final amount:\", cart_total)\n",
    "else:\n",
    "    print(\"Final amount:\", cart_total + 50)"
   ]
  },
  {
   "cell_type": "code",
   "execution_count": 3,
   "id": "ff8d5d32",
   "metadata": {},
   "outputs": [
    {
     "name": "stdout",
     "output_type": "stream",
     "text": [
      "Grade: B\n"
     ]
    }
   ],
   "source": [
    "marks = int(input(\"Enter marks: \"))\n",
    "\n",
    "if 90 <= marks <= 100:\n",
    "    grade = \"A\"\n",
    "elif 75 <= marks < 90:\n",
    "    grade = \"B\"\n",
    "elif 50 <= marks < 75:\n",
    "    grade = \"C\"\n",
    "else:\n",
    "    grade = \"Fail\"\n",
    "\n",
    "print(\"Grade:\", grade)"
   ]
  },
  {
   "cell_type": "code",
   "execution_count": 4,
   "id": "6293da36",
   "metadata": {},
   "outputs": [
    {
     "name": "stdout",
     "output_type": "stream",
     "text": [
      "Tip: 180.0\n"
     ]
    }
   ],
   "source": [
    "bill = float(input(\"Enter bill amount: \"))\n",
    "\n",
    "if bill < 500:\n",
    "    tip = bill * 0.05\n",
    "elif bill <= 1000:\n",
    "    tip = bill * 0.10\n",
    "else:\n",
    "    tip = bill * 0.15\n",
    "\n",
    "print(\"Tip:\", tip)"
   ]
  },
  {
   "cell_type": "code",
   "execution_count": 5,
   "id": "057c06cf",
   "metadata": {},
   "outputs": [
    {
     "name": "stdout",
     "output_type": "stream",
     "text": [
      "Cheapest option: 4200\n"
     ]
    }
   ],
   "source": [
    "months = int(input(\"Enter membership period (months): \"))\n",
    "\n",
    "cost1 = months * 500\n",
    "cost2 = (months // 6) * 2700 + (months % 6) * 500\n",
    "cost3 = (months // 12) * 5000 + (months % 12) * 500\n",
    "\n",
    "print(\"Cheapest option:\", min(cost1, cost2, cost3))"
   ]
  },
  {
   "cell_type": "code",
   "execution_count": 6,
   "id": "3649c47d",
   "metadata": {},
   "outputs": [
    {
     "name": "stdout",
     "output_type": "stream",
     "text": [
      "Not Eligible\n"
     ]
    }
   ],
   "source": [
    "total = int(input(\"Enter total classes: \"))\n",
    "attended = int(input(\"Enter attended classes: \"))\n",
    "\n",
    "attendance = (attended / total) * 100\n",
    "\n",
    "if attendance >= 75:\n",
    "    print(\"Eligible\")\n",
    "else:\n",
    "    print(\"Not Eligible\")"
   ]
  },
  {
   "cell_type": "code",
   "execution_count": 7,
   "id": "4c8f7b7a",
   "metadata": {},
   "outputs": [
    {
     "name": "stdout",
     "output_type": "stream",
     "text": [
      "Transaction Failed\n"
     ]
    }
   ],
   "source": [
    "amount = int(input(\"Enter withdrawal amount: \"))\n",
    "\n",
    "if amount % 100 == 0:\n",
    "    print(\"Transaction Successful\")\n",
    "else:\n",
    "    print(\"Transaction Failed\")"
   ]
  },
  {
   "cell_type": "code",
   "execution_count": 8,
   "id": "5265779e",
   "metadata": {},
   "outputs": [
    {
     "name": "stdout",
     "output_type": "stream",
     "text": [
      "Too hot, stay indoors!\n"
     ]
    }
   ],
   "source": [
    "temp = int(input(\"Enter temperature: \"))\n",
    "\n",
    "if temp > 35:\n",
    "    print(\"Too hot, stay indoors!\")\n",
    "elif 20 <= temp <= 35:\n",
    "    print(\"Nice weather, go out!\")\n",
    "else:\n",
    "    print(\"It’s cold, wear warm clothes!\")"
   ]
  },
  {
   "cell_type": "code",
   "execution_count": 9,
   "id": "9c15e7ca",
   "metadata": {},
   "outputs": [
    {
     "name": "stdout",
     "output_type": "stream",
     "text": [
      "Fine: 50\n"
     ]
    }
   ],
   "source": [
    "days = int(input(\"Enter late days: \"))\n",
    "\n",
    "if 1 <= days <= 5:\n",
    "    fine = 10\n",
    "elif 6 <= days <= 10:\n",
    "    fine = 50\n",
    "elif days > 10:\n",
    "    fine = 100\n",
    "else:\n",
    "    fine = 0\n",
    "\n",
    "print(\"Fine:\", fine)"
   ]
  },
  {
   "cell_type": "code",
   "execution_count": 10,
   "id": "b4623efe",
   "metadata": {},
   "outputs": [
    {
     "name": "stdout",
     "output_type": "stream",
     "text": [
      "Bill amount: 1165\n"
     ]
    }
   ],
   "source": [
    "units = int(input(\"Enter units consumed: \"))\n",
    "\n",
    "if units <= 100:\n",
    "    bill = units * 5\n",
    "elif units <= 200:\n",
    "    bill = (100 * 5) + (units - 100) * 7\n",
    "else:\n",
    "    bill = (100 * 5) + (100 * 7) + (units - 200) * 10\n",
    "\n",
    "print(\"Bill amount:\", bill)"
   ]
  }
 ],
 "metadata": {
  "kernelspec": {
   "display_name": "Python 3",
   "language": "python",
   "name": "python3"
  },
  "language_info": {
   "codemirror_mode": {
    "name": "ipython",
    "version": 3
   },
   "file_extension": ".py",
   "mimetype": "text/x-python",
   "name": "python",
   "nbconvert_exporter": "python",
   "pygments_lexer": "ipython3",
   "version": "3.11.0"
  }
 },
 "nbformat": 4,
 "nbformat_minor": 5
}
