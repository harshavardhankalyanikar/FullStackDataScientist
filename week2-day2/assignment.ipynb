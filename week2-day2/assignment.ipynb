{
 "cells": [
  {
   "cell_type": "code",
   "execution_count": 2,
   "id": "ae4f5831",
   "metadata": {},
   "outputs": [
    {
     "name": "stdout",
     "output_type": "stream",
     "text": [
      "knjryfg rervynuit2ty vny9 iuoger2o n\n",
      "5\n"
     ]
    }
   ],
   "source": [
    "f = input('Enter filename: ')\n",
    "with open(f,'r') as fd:\n",
    "    data = fd.read()\n",
    "print(len(data.split(\" \")))\n"
   ]
  },
  {
   "cell_type": "code",
   "execution_count": 4,
   "id": "1de0f061",
   "metadata": {},
   "outputs": [
    {
     "name": "stdout",
     "output_type": "stream",
     "text": [
      "Strong password\n"
     ]
    }
   ],
   "source": [
    "\n",
    "def password_check(s):\n",
    "    if len(s)>=12:\n",
    "        if any(x.isupper() for x in s):\n",
    "            if any(x.islower() for x in s):\n",
    "                if any(x.isdigit() for x in s):\n",
    "                    if any(x in '@#$%' for x in s):\n",
    "                        return \"Strong password\"\n",
    "    return \"Weak password\"\n",
    "s=input('Enter password: ')\n",
    "print(password_check(s))"
   ]
  },
  {
   "cell_type": "code",
   "execution_count": 6,
   "id": "857884f5",
   "metadata": {},
   "outputs": [
    {
     "name": "stdout",
     "output_type": "stream",
     "text": [
      "-2\n"
     ]
    }
   ],
   "source": [
    "a,b=map(int,input('Enter two numbers: ').split(','))\n",
    "s=input('Enter operation (+,-,*,/): ')\n",
    "if s=='+':\n",
    "    print(a+b)\n",
    "elif s=='-':\n",
    "    print(a-b)\n",
    "elif s=='*':\n",
    "    print(a*b)\n",
    "elif s=='/':\n",
    "    print(a/b)\n"
   ]
  },
  {
   "cell_type": "code",
   "execution_count": 7,
   "id": "8371afba",
   "metadata": {},
   "outputs": [
    {
     "name": "stdout",
     "output_type": "stream",
     "text": [
      "naga sai "
     ]
    }
   ],
   "source": [
    "l=list(map(str,input().split(',')))\n",
    "d={}\n",
    "for i in l:\n",
    "    if i in d:\n",
    "        print(i,end=\" \")\n",
    "    else:\n",
    "        d[i]=1\n",
    "\n"
   ]
  },
  {
   "cell_type": "code",
   "execution_count": null,
   "id": "1d225a20",
   "metadata": {},
   "outputs": [],
   "source": [
    "cel=float(input('Enter temperature: '))\n",
    "tmp=input('Enter unit (C/F): ')\n",
    "if tmp=='C':\n",
    "    fah=(cel*9/5)+32\n",
    "    print(f'Temperature in Fahrenheit: {fah}') \n",
    "elif tmp=='F':\n",
    "    cel=(fah-32)*5/9\n",
    "    print(f'Temperature in Celsius: {cel}')\n",
    "\n"
   ]
  },
  {
   "cell_type": "code",
   "execution_count": 8,
   "id": "f75621e4",
   "metadata": {},
   "outputs": [
    {
     "name": "stdout",
     "output_type": "stream",
     "text": [
      "9\n"
     ]
    }
   ],
   "source": [
    "l=list(map(int,input().split(',')))\n",
    "print(sorted(l)[-1])\n"
   ]
  },
  {
   "cell_type": "code",
   "execution_count": 9,
   "id": "d158573f",
   "metadata": {},
   "outputs": [
    {
     "name": "stdout",
     "output_type": "stream",
     "text": [
      "Simple Interest:7.0\n"
     ]
    }
   ],
   "source": [
    "def simple_interest(p,t,r):\n",
    "    return (p*t*r)/100\n",
    "p=int(input(\"principle amount:\"))\n",
    "t=int(input(\"time:\"))\n",
    "r=int(input(\"rate:\"))\n",
    "print(\"Simple Interest:\"+str(simple_interest(p,t,r)))"
   ]
  },
  {
   "cell_type": "code",
   "execution_count": 11,
   "id": "838e93a1",
   "metadata": {},
   "outputs": [
    {
     "name": "stdout",
     "output_type": "stream",
     "text": [
      "sri\n",
      "nava\n"
     ]
    }
   ],
   "source": [
    "names=list(map(str,input().split(\",\")))\n",
    "att=list(map(int,input().split(\",\")))\n",
    "d={}\n",
    "for i in range(len(names)):\n",
    "    d[names[i]]=att[i]\n",
    "for i in d:\n",
    "    if d[i]<75:\n",
    "        print(i)\n"
   ]
  },
  {
   "cell_type": "code",
   "execution_count": 12,
   "id": "f0e8b967",
   "metadata": {},
   "outputs": [
    {
     "name": "stdout",
     "output_type": "stream",
     "text": [
      "10\n"
     ]
    }
   ],
   "source": [
    "s=input()\n",
    "n=0\n",
    "for i in s:\n",
    "    n+=int(i)\n",
    "print(n)"
   ]
  },
  {
   "cell_type": "code",
   "execution_count": 13,
   "id": "fb75c217",
   "metadata": {},
   "outputs": [
    {
     "name": "stdout",
     "output_type": "stream",
     "text": [
      "Prime\n"
     ]
    }
   ],
   "source": [
    "n=int(input())\n",
    "if n>1:\n",
    "    for i in range(2,int(n/2)+1):\n",
    "        if (n%i)==0:\n",
    "            print(\"Not prime\")\n",
    "            break\n",
    "    else:\n",
    "        print(\"Prime\")"
   ]
  },
  {
   "cell_type": "code",
   "execution_count": 14,
   "id": "e0b9d711",
   "metadata": {},
   "outputs": [
    {
     "name": "stdout",
     "output_type": "stream",
     "text": [
      "Largest number is: 5\n",
      "Smallest number is: 1\n"
     ]
    }
   ],
   "source": [
    "l=list(map(int,input().split(',')))\n",
    "print(\"Largest number is:\",sorted(l)[-1])\n",
    "print(\"Smallest number is:\",sorted(l)[0])"
   ]
  },
  {
   "cell_type": "code",
   "execution_count": 19,
   "id": "45d48cbc",
   "metadata": {},
   "outputs": [
    {
     "name": "stdout",
     "output_type": "stream",
     "text": [
      "Total bill: 10\n"
     ]
    }
   ],
   "source": [
    "d={}\n",
    "keys=list(map(str,input().split(',')))\n",
    "values=list(map(int,input().split(',')))\n",
    "for i in range(len(keys)):\n",
    "    d[keys[i]]=values[i]\n",
    "print(\"Total bill:\",sum(d.values()))"
   ]
  },
  {
   "cell_type": "code",
   "execution_count": 20,
   "id": "a73b8832",
   "metadata": {},
   "outputs": [
    {
     "name": "stdout",
     "output_type": "stream",
     "text": [
      "Largest  4\n"
     ]
    }
   ],
   "source": [
    "a,b,c=map(int,input().split(','))\n",
    "print(\"Largest \",max(a,b,c))"
   ]
  },
  {
   "cell_type": "code",
   "execution_count": 21,
   "id": "b13cba10",
   "metadata": {},
   "outputs": [
    {
     "name": "stdout",
     "output_type": "stream",
     "text": [
      "Counter({'q': 6, 'e': 6, 't': 4, 'v': 4, ' ': 4, 'g': 3, 'r': 3, 'w': 3, 'n': 3, 'j': 2, 'b': 2, 'u': 2, 'h': 2, 'f': 1, 'y': 1, 'k': 1, 'i': 1})\n"
     ]
    }
   ],
   "source": [
    "from collections import Counter\n",
    "s=input()\n",
    "d=Counter(s)\n",
    "print(d)\n"
   ]
  },
  {
   "cell_type": "code",
   "execution_count": 22,
   "id": "247993cc",
   "metadata": {},
   "outputs": [
    {
     "name": "stdout",
     "output_type": "stream",
     "text": [
      "Total bill: 4200\n"
     ]
    }
   ],
   "source": [
    "n=int(input(\"Enter bill in units:\"))\n",
    "bill=0\n",
    "if n<=100:\n",
    "    bill=n*5\n",
    "elif n<=200:\n",
    "    bill=100*5+(n-100)*7\n",
    "else:\n",
    "    bill=100*5+100*7+(n-200)*10\n",
    "print(\"Total bill:\",bill) "
   ]
  },
  {
   "cell_type": "code",
   "execution_count": 23,
   "id": "6910a64a",
   "metadata": {},
   "outputs": [
    {
     "name": "stdout",
     "output_type": "stream",
     "text": [
      "['abhi', 'harsha', 'naga', 'sai']\n"
     ]
    }
   ],
   "source": [
    "l=list(map(str,input().split(',')))\n",
    "print(sorted(l))\n"
   ]
  },
  {
   "cell_type": "code",
   "execution_count": 24,
   "id": "24ea2b89",
   "metadata": {},
   "outputs": [
    {
     "name": "stdout",
     "output_type": "stream",
     "text": [
      "4321\n"
     ]
    }
   ],
   "source": [
    "n=int(input())\n",
    "x=0\n",
    "while n>0:\n",
    "    r=n%10\n",
    "    x=x*10+r\n",
    "    n=n//10\n",
    "print(x)"
   ]
  },
  {
   "cell_type": "code",
   "execution_count": null,
   "id": "9b25d33f",
   "metadata": {},
   "outputs": [],
   "source": [
    "l=list(map(int,input().split()))\n",
    "p=n=z=0\n",
    "for i in l:\n",
    "    if i>0:\n",
    "        p+=1\n",
    "    elif i<0:\n",
    "        n+=1\n",
    "    else:\n",
    "        z+=1\n",
    "print(\"Positive numbers : \",p)\n",
    "print(\"negative numbers : \",n)\n",
    "print(\"zeroes : \",z)"
   ]
  },
  {
   "cell_type": "code",
   "execution_count": 29,
   "id": "6f8ffae7",
   "metadata": {},
   "outputs": [
    {
     "name": "stdout",
     "output_type": "stream",
     "text": [
      "more 2 attempts\n",
      "more 1 attempts\n",
      "maximum attempts reached\n"
     ]
    }
   ],
   "source": [
    "pin=1234\n",
    "for i in range(3):\n",
    "    x=int(input(\"Enter pin\"))\n",
    "    if x==pin:\n",
    "        print(\"correct pin entered\")\n",
    "        break\n",
    "    else:\n",
    "        if i==2:\n",
    "            print(\"maximum attempts reached\")\n",
    "        else:\n",
    "            print(\"more \"+str(3-i-1)+\" attempts\")"
   ]
  },
  {
   "cell_type": "code",
   "execution_count": 34,
   "id": "973b0f95",
   "metadata": {},
   "outputs": [
    {
     "name": "stdout",
     "output_type": "stream",
     "text": [
      "Cannot be divided by 0\n"
     ]
    }
   ],
   "source": [
    "a,b=map(int,input().split())\n",
    "try:\n",
    "    print(\"Division of given two numbers a/b:\",a/b)\n",
    "except(ZeroDivisionError):\n",
    "    print(\"Cannot be divided by 0\")"
   ]
  },
  {
   "cell_type": "code",
   "execution_count": 37,
   "id": "ecc15209",
   "metadata": {},
   "outputs": [
    {
     "name": "stdout",
     "output_type": "stream",
     "text": [
      "Give correct values as input\n"
     ]
    }
   ],
   "source": [
    "try:\n",
    "    a,b=map(int,input().split())\n",
    "    print(\"Division of given two numbers a/b:\",a/b)\n",
    "except(ZeroDivisionError):\n",
    "    print(\"Cannot be divided by 0\")\n",
    "except(ValueError):\n",
    "    print(\"Give correct values as input\")"
   ]
  },
  {
   "cell_type": "code",
   "execution_count": 2,
   "id": "99946ab6",
   "metadata": {},
   "outputs": [
    {
     "name": "stdout",
     "output_type": "stream",
     "text": [
      "insufficient balance\n"
     ]
    }
   ],
   "source": [
    "balance = 10000\n",
    "n = int(input(\"Enter amount for withdrawl : \"))\n",
    "try:\n",
    "    if n > balance:\n",
    "        raise Exception(\"insufficient balance\")\n",
    "    else:\n",
    "        balance -= n\n",
    "        print(\"withdraw successfull\")\n",
    "except Exception as e:\n",
    "    print(e)\n"
   ]
  },
  {
   "cell_type": "code",
   "execution_count": null,
   "id": "f9ca6082",
   "metadata": {},
   "outputs": [],
   "source": [
    "try:\n",
    "    n=int(input(\"Enter bill in units\"))\n",
    "    "
   ]
  }
 ],
 "metadata": {
  "kernelspec": {
   "display_name": "base",
   "language": "python",
   "name": "python3"
  },
  "language_info": {
   "codemirror_mode": {
    "name": "ipython",
    "version": 3
   },
   "file_extension": ".py",
   "mimetype": "text/x-python",
   "name": "python",
   "nbconvert_exporter": "python",
   "pygments_lexer": "ipython3",
   "version": "3.13.5"
  }
 },
 "nbformat": 4,
 "nbformat_minor": 5
}
